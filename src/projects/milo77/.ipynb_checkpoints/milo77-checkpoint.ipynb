{
 "cells": [
  {
   "cell_type": "code",
   "execution_count": 1,
   "metadata": {
    "collapsed": false
   },
   "outputs": [
    {
     "data": {
      "text/html": [
       "\n",
       "        <iframe\n",
       "            width=\"700\"\n",
       "            height=\"500\"\n",
       "            src=\"https://docs.google.com/spreadsheets/d/1VDXSMqPVYYLuDkyzly2UBEbpBGAHBq336GsacR9QOZk/edit?rm=minimal\"\n",
       "            frameborder=\"0\"\n",
       "            allowfullscreen\n",
       "        ></iframe>\n",
       "        "
      ],
      "text/plain": [
       "<IPython.lib.display.IFrame at 0xb4946ccc>"
      ]
     },
     "execution_count": 1,
     "metadata": {},
     "output_type": "execute_result"
    }
   ],
   "source": [
    "# put your shared google sheet key here\n",
    "gkey = '1VDXSMqPVYYLuDkyzly2UBEbpBGAHBq336GsacR9QOZk'\n",
    "\n",
    "from IPython.display import IFrame\n",
    "url = 'https://docs.google.com/spreadsheets/d/%s/edit?rm=minimal'%gkey\n",
    "IFrame(url,width=700,height=500)"
   ]
  },
  {
   "cell_type": "code",
   "execution_count": 2,
   "metadata": {
    "collapsed": false
   },
   "outputs": [
    {
     "name": "stdout",
     "output_type": "stream",
     "text": [
      "Pdiss =       0.247791\n",
      "Va    =     124.553070\n",
      "Vk    =       0.111508\n",
      "Ia    =       0.001991\n",
      "Vgk   =      -0.111508\n",
      "Vak   =     124.441561\n"
     ]
    }
   ],
   "source": [
    "from milo77 import solve\n",
    "solve(gkey)"
   ]
  }
 ],
 "metadata": {
  "kernelspec": {
   "display_name": "Python 2",
   "language": "python",
   "name": "python2"
  },
  "language_info": {
   "codemirror_mode": {
    "name": "ipython",
    "version": 2
   },
   "file_extension": ".py",
   "mimetype": "text/x-python",
   "name": "python",
   "nbconvert_exporter": "python",
   "pygments_lexer": "ipython2",
   "version": "2.7.11"
  }
 },
 "nbformat": 4,
 "nbformat_minor": 0
}
