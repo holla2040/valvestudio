{
 "cells": [
  {
   "cell_type": "code",
   "execution_count": 43,
   "metadata": {
    "collapsed": false
   },
   "outputs": [
    {
     "data": {
      "text/html": [
       "\n",
       "        <iframe\n",
       "            width=\"700\"\n",
       "            height=\"500\"\n",
       "            src=\"https://docs.google.com/spreadsheets/d/1VDXSMqPVYYLuDkyzly2UBEbpBGAHBq336GsacR9QOZk/edit?rm=minimal\"\n",
       "            frameborder=\"0\"\n",
       "            allowfullscreen\n",
       "        ></iframe>\n",
       "        "
      ],
      "text/plain": [
       "<IPython.lib.display.IFrame at 0x7f3f45f39a90>"
      ]
     },
     "execution_count": 43,
     "metadata": {},
     "output_type": "execute_result"
    }
   ],
   "source": [
    "# put your shared google sheet key here\n",
    "gkey = '1VDXSMqPVYYLuDkyzly2UBEbpBGAHBq336GsacR9QOZk'\n",
    "\n",
    "from IPython.display import IFrame\n",
    "url = 'https://docs.google.com/spreadsheets/d/%s/edit?rm=minimal'%gkey\n",
    "IFrame(url,width=700,height=500)"
   ]
  },
  {
   "cell_type": "code",
   "execution_count": 44,
   "metadata": {
    "collapsed": false
   },
   "outputs": [
    {
     "name": "stdout",
     "output_type": "stream",
     "text": [
      "K          =       0.001261\n",
      "Da         =       0.011793\n",
      "n          =       1.500000\n",
      "Vbatt      =     250.000000\n",
      "Pdiss      =       0.150000\n",
      "Va         =     200.000000\n",
      "\n",
      "Vk         =       1.628297\n",
      "Ia         =       0.000756\n",
      "Vgk        =      -1.628297\n",
      "Vak        =     198.371703\n",
      "Rk         =    2153.387020\n",
      "Rload      =   66123.900993\n"
     ]
    }
   ],
   "source": [
    "import milo77\n",
    "reload(milo77)\n",
    "\n",
    "from milo77 import solve\n",
    "solve(gkey)"
   ]
  },
  {
   "cell_type": "code",
   "execution_count": null,
   "metadata": {
    "collapsed": true
   },
   "outputs": [],
   "source": []
  },
  {
   "cell_type": "code",
   "execution_count": null,
   "metadata": {
    "collapsed": true
   },
   "outputs": [],
   "source": []
  }
 ],
 "metadata": {
  "anaconda-cloud": {},
  "kernelspec": {
   "display_name": "Python [default]",
   "language": "python",
   "name": "python2"
  },
  "language_info": {
   "codemirror_mode": {
    "name": "ipython",
    "version": 2
   },
   "file_extension": ".py",
   "mimetype": "text/x-python",
   "name": "python",
   "nbconvert_exporter": "python",
   "pygments_lexer": "ipython2",
   "version": "2.7.12"
  }
 },
 "nbformat": 4,
 "nbformat_minor": 0
}
