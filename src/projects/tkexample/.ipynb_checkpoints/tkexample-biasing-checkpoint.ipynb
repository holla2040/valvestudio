{
 "cells": [
  {
   "cell_type": "markdown",
   "metadata": {},
   "source": [
    "from http://docs.sympy.org/dev/modules/solvers/solvers.html"
   ]
  },
  {
   "cell_type": "code",
   "execution_count": 1,
   "metadata": {
    "collapsed": true
   },
   "outputs": [],
   "source": [
    "from sympy import Symbol,nsolve,init_printing,Eq\n",
    "from IPython.display import display\n",
    "init_printing(use_latex='mathjax')\n",
    "import sympy\n",
    "import mpmath\n",
    "mpmath.mp.dps = 15"
   ]
  },
  {
   "cell_type": "code",
   "execution_count": 2,
   "metadata": {
    "collapsed": false
   },
   "outputs": [
    {
     "data": {
      "text/latex": [
       "$$i = \\frac{V_{in}}{R_{1} + R_{2}}$$"
      ],
      "text/plain": [
       "      V_in \n",
       "i = ───────\n",
       "    R₁ + R₂"
      ]
     },
     "metadata": {},
     "output_type": "display_data"
    },
    {
     "data": {
      "text/latex": [
       "$$V_{out} = R_{2} i$$"
      ],
      "text/plain": [
       "V_out = R₂⋅i"
      ]
     },
     "metadata": {},
     "output_type": "display_data"
    },
    {
     "data": {
      "text/latex": [
       "$$i = \\frac{10}{R_{2} + 2000}$$"
      ],
      "text/plain": [
       "        10   \n",
       "i = ─────────\n",
       "    R₂ + 2000"
      ]
     },
     "metadata": {},
     "output_type": "display_data"
    },
    {
     "data": {
      "text/latex": [
       "$$7.5 = R_{2} i$$"
      ],
      "text/plain": [
       "7.5 = R₂⋅i"
      ]
     },
     "metadata": {},
     "output_type": "display_data"
    },
    {
     "name": "stdout",
     "output_type": "stream",
     "text": [
      "\n",
      "R2 = 6000.0\n",
      "i  = 0.00125\n"
     ]
    }
   ],
   "source": [
    "Vout = Symbol('V_out')\n",
    "Vin  = Symbol('V_in')\n",
    "i    = Symbol('i')\n",
    "R1   = Symbol('R_1')\n",
    "R2   = Symbol('R_2')\n",
    "\n",
    "e1 = Eq(i, Vin/(R1+R2))\n",
    "e2 = Eq(Vout,i*R2)\n",
    "display(e1,e2)\n",
    "\n",
    "Vin  = 10\n",
    "R1   = 2000\n",
    "Vout = 7.5\n",
    "\n",
    "e1 = Eq(i, Vin/(R1+R2))\n",
    "e2 = Eq(Vout,i*R2)\n",
    "display(e1,e2)\n",
    "\n",
    "_a1, _a2 = nsolve((e1,e2),(R2,i),(10000,0.01))\n",
    "\n",
    "print\n",
    "print \"R2 =\",_a1\n",
    "print \"i  =\",_a2"
   ]
  },
  {
   "cell_type": "markdown",
   "metadata": {},
   "source": [
    "<hr>\n",
    "### Triode Modeling\n",
    "\n",
    "see [Triode Modeling Notebook](https://github.com/holla2040/valvestudio/blob/master/experiments/02-modeling/triode/triode-modeling.ipynb) on the ValveStudio github page\n",
    "\n",
    "The [Child-Langmuir](http://www.john-a-harper.com/tubes201/) equation for the next sympy exampe\n",
    "\n",
    "$$I_a = K (V_{gk} + D_aV_{ak})^{3/2}$$\n",
    "\n",
    "<img src=\"tkexample-biasing.png\" alt=\"schematic\" style=\"width: 250px;\"/>\n"
   ]
  },
  {
   "cell_type": "code",
   "execution_count": 3,
   "metadata": {
    "collapsed": false
   },
   "outputs": [
    {
     "data": {
      "text/latex": [
       "$$125 = - I_{a} R_{load} + 250$$"
      ],
      "text/plain": [
       "125 = -Iₐ⋅R_load + 250"
      ]
     },
     "metadata": {},
     "output_type": "display_data"
    },
    {
     "data": {
      "text/latex": [
       "$$I_{a} = 0.00126098 \\left(0.01179251 V_{ak} + V_{gk}\\right)^{1.5}$$"
      ],
      "text/plain": [
       "                                        1.5\n",
       "Iₐ = 0.00126098⋅(0.01179251⋅V_ak + V_gk)   "
      ]
     },
     "metadata": {},
     "output_type": "display_data"
    },
    {
     "data": {
      "text/latex": [
       "$$V_{k} = I_{a} R_{k}$$"
      ],
      "text/plain": [
       "V_k = Iₐ⋅R_k"
      ]
     },
     "metadata": {},
     "output_type": "display_data"
    },
    {
     "data": {
      "text/latex": [
       "$$V_{gk} = - V_{k}$$"
      ],
      "text/plain": [
       "V_gk = -V_k"
      ]
     },
     "metadata": {},
     "output_type": "display_data"
    },
    {
     "data": {
      "text/latex": [
       "$$V_{ak} = - V_{k} + 125$$"
      ],
      "text/plain": [
       "V_ak = -V_k + 125"
      ]
     },
     "metadata": {},
     "output_type": "display_data"
    },
    {
     "data": {
      "text/latex": [
       "$$0.25 = I_{a} V_{ak}$$"
      ],
      "text/plain": [
       "0.25 = Iₐ⋅V_ak"
      ]
     },
     "metadata": {},
     "output_type": "display_data"
    },
    {
     "name": "stdout",
     "output_type": "stream",
     "text": [
      "[   62444.0481110815]\n",
      "[   55.9017990964864]\n",
      "[0.00200179206475592]\n",
      "[   124.888096222163]\n",
      "[  0.111903777836926]\n",
      "[ -0.111903777836926]\n"
     ]
    }
   ],
   "source": [
    "K     = Symbol(\"K\")\n",
    "Da    = Symbol(\"D_a\")\n",
    "n     = 3.0/2.0\n",
    "\n",
    "Vbatt = Symbol(\"V_batt\")\n",
    "Pdiss = Symbol(\"P_diss\")\n",
    "Va    = Symbol(\"V_a\")\n",
    "Vk    = Symbol(\"V_k\")\n",
    "Vg    = Symbol(\"V_g\")\n",
    "\n",
    "Ia    = Symbol(\"I_a\")\n",
    "Vgk   = Symbol(\"V_gk\")\n",
    "Vak   = Symbol(\"V_ak\")\n",
    "\n",
    "Rk    = Symbol(\"R_k\")\n",
    "Rload = Symbol(\"R_load\")\n",
    "\n",
    "Vbatt = 250\n",
    "Va    = Vbatt/2\n",
    "\n",
    "K     = 0.00126098\n",
    "Da    = 0.01179251\n",
    "Pdiss = 0.25\n",
    "\n",
    "e1 = Eq(Va, Vbatt-Rload*Ia)\n",
    "e2 = Eq(Ia, K*(Vgk + Da*Vak)**n)\n",
    "e3 = Eq(Vk, Ia * Rk)\n",
    "e4 = Eq(Vgk, -Vk)\n",
    "e5 = Eq(Vak,Va - Vk)\n",
    "e6 = Eq(Pdiss,Ia*Vak)\n",
    "display(e1,e2,e3,e4,e5,e6)\n",
    "\n",
    "ans = nsolve((e1,e2,e3,e4,e5,e6),(Rload,Rk,Ia,Vak,Vk,Vgk),(100000,100.0,0.001,100.0,1.0,-1.0))\n",
    "print ans\n"
   ]
  },
  {
   "cell_type": "code",
   "execution_count": null,
   "metadata": {
    "collapsed": true
   },
   "outputs": [],
   "source": []
  }
 ],
 "metadata": {
  "kernelspec": {
   "display_name": "Python 2",
   "language": "python",
   "name": "python2"
  },
  "language_info": {
   "codemirror_mode": {
    "name": "ipython",
    "version": 2
   },
   "file_extension": ".py",
   "mimetype": "text/x-python",
   "name": "python",
   "nbconvert_exporter": "python",
   "pygments_lexer": "ipython2",
   "version": "2.7.11"
  }
 },
 "nbformat": 4,
 "nbformat_minor": 0
}
